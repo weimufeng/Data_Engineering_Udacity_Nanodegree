{
 "cells": [
  {
   "cell_type": "code",
   "execution_count": 71,
   "id": "1d2f40da-381a-40c2-b825-79f1b09e2e93",
   "metadata": {
    "execution": {
     "iopub.execute_input": "2022-09-25T03:40:05.238180Z",
     "iopub.status.busy": "2022-09-25T03:40:05.237412Z",
     "iopub.status.idle": "2022-09-25T03:40:05.505056Z",
     "shell.execute_reply": "2022-09-25T03:40:05.504217Z",
     "shell.execute_reply.started": "2022-09-25T03:40:05.238145Z"
    },
    "tags": []
   },
   "outputs": [
    {
     "data": {
      "application/vnd.jupyter.widget-view+json": {
       "model_id": "226a53b3caaf4461a90b72fb38a214e2",
       "version_major": 2,
       "version_minor": 0
      },
      "text/plain": [
       "VBox()"
      ]
     },
     "metadata": {},
     "output_type": "display_data"
    },
    {
     "data": {
      "application/vnd.jupyter.widget-view+json": {
       "model_id": "",
       "version_major": 2,
       "version_minor": 0
      },
      "text/plain": [
       "FloatProgress(value=0.0, bar_style='info', description='Progress:', layout=Layout(height='25px', width='50%'),…"
      ]
     },
     "metadata": {},
     "output_type": "display_data"
    }
   ],
   "source": [
    "import configparser\n",
    "from datetime import datetime\n",
    "import os\n",
    "from pyspark.sql import SparkSession\n",
    "from pyspark.sql.functions import udf, col, monotonically_increasing_id\n",
    "from pyspark.sql.functions import year, month, dayofmonth, hour, weekofyear, date_format, dayofweek\n",
    "from pyspark.sql.types import TimestampType"
   ]
  },
  {
   "cell_type": "code",
   "execution_count": 72,
   "id": "1b2775d8-d378-49a7-a3e7-398d05cd8fc9",
   "metadata": {
    "execution": {
     "iopub.execute_input": "2022-09-25T03:40:05.509713Z",
     "iopub.status.busy": "2022-09-25T03:40:05.509052Z",
     "iopub.status.idle": "2022-09-25T03:40:05.820129Z",
     "shell.execute_reply": "2022-09-25T03:40:05.819266Z",
     "shell.execute_reply.started": "2022-09-25T03:40:05.509679Z"
    },
    "tags": []
   },
   "outputs": [
    {
     "data": {
      "application/vnd.jupyter.widget-view+json": {
       "model_id": "ab425fa257fd4ec4acc776c538a68bf5",
       "version_major": 2,
       "version_minor": 0
      },
      "text/plain": [
       "VBox()"
      ]
     },
     "metadata": {},
     "output_type": "display_data"
    },
    {
     "data": {
      "application/vnd.jupyter.widget-view+json": {
       "model_id": "",
       "version_major": 2,
       "version_minor": 0
      },
      "text/plain": [
       "FloatProgress(value=0.0, bar_style='info', description='Progress:', layout=Layout(height='25px', width='50%'),…"
      ]
     },
     "metadata": {},
     "output_type": "display_data"
    },
    {
     "name": "stdout",
     "output_type": "stream",
     "text": [
      "[]"
     ]
    }
   ],
   "source": [
    "config = configparser.ConfigParser()\n",
    "config.read('dl.cfg')\n",
    "\n",
    "# os.environ['AWS_ACCESS_KEY_ID']=config['AWS_ACCESS_KEY_ID']\n",
    "# os.environ['AWS_SECRET_ACCESS_KEY']=config['AWS_SECRET_ACCESS_KEY']"
   ]
  },
  {
   "cell_type": "code",
   "execution_count": 73,
   "id": "e152f09c-08f7-458f-93a5-779f261378e8",
   "metadata": {
    "execution": {
     "iopub.execute_input": "2022-09-25T03:40:05.822699Z",
     "iopub.status.busy": "2022-09-25T03:40:05.822117Z",
     "iopub.status.idle": "2022-09-25T03:40:06.150992Z",
     "shell.execute_reply": "2022-09-25T03:40:06.150168Z",
     "shell.execute_reply.started": "2022-09-25T03:40:05.822666Z"
    }
   },
   "outputs": [
    {
     "data": {
      "application/vnd.jupyter.widget-view+json": {
       "model_id": "d32172f82f664d169b4020aed6a9a0ed",
       "version_major": 2,
       "version_minor": 0
      },
      "text/plain": [
       "VBox()"
      ]
     },
     "metadata": {},
     "output_type": "display_data"
    },
    {
     "data": {
      "application/vnd.jupyter.widget-view+json": {
       "model_id": "",
       "version_major": 2,
       "version_minor": 0
      },
      "text/plain": [
       "FloatProgress(value=0.0, bar_style='info', description='Progress:', layout=Layout(height='25px', width='50%'),…"
      ]
     },
     "metadata": {},
     "output_type": "display_data"
    }
   ],
   "source": [
    "def create_spark_session():\n",
    "    spark = SparkSession \\\n",
    "        .builder \\\n",
    "        .config(\"spark.jars.packages\", \"org.apache.hadoop:hadoop-aws:2.7.0\") \\\n",
    "        .getOrCreate()\n",
    "    return spark"
   ]
  },
  {
   "cell_type": "code",
   "execution_count": 74,
   "id": "80aa85a8-eef2-4f99-808b-7a6d0044c105",
   "metadata": {
    "execution": {
     "iopub.execute_input": "2022-09-25T03:40:06.194153Z",
     "iopub.status.busy": "2022-09-25T03:40:06.152581Z",
     "iopub.status.idle": "2022-09-25T03:40:06.514320Z",
     "shell.execute_reply": "2022-09-25T03:40:06.513443Z",
     "shell.execute_reply.started": "2022-09-25T03:40:06.194095Z"
    },
    "tags": []
   },
   "outputs": [
    {
     "data": {
      "application/vnd.jupyter.widget-view+json": {
       "model_id": "82e9efe8ccbb4b6d9f4969a75e2a7861",
       "version_major": 2,
       "version_minor": 0
      },
      "text/plain": [
       "VBox()"
      ]
     },
     "metadata": {},
     "output_type": "display_data"
    },
    {
     "data": {
      "application/vnd.jupyter.widget-view+json": {
       "model_id": "",
       "version_major": 2,
       "version_minor": 0
      },
      "text/plain": [
       "FloatProgress(value=0.0, bar_style='info', description='Progress:', layout=Layout(height='25px', width='50%'),…"
      ]
     },
     "metadata": {},
     "output_type": "display_data"
    }
   ],
   "source": [
    "def process_song_data(spark, input_data, output_data):\n",
    "    # get filepath to song data file\n",
    "    song_data = os.path.join(input_data, 'song_data/*/*/*/*.json')\n",
    "    \n",
    "    # read song data file\n",
    "    df = spark.read.json(song_data)\n",
    "\n",
    "    # extract columns to create songs table\n",
    "    songs_fields = ['song_id', 'title', 'artist_id', 'year', 'duration']\n",
    "    songs_table = df.select(songs_fields).distinct()\n",
    "    \n",
    "    # write songs table to parquet files partitioned by year and artist\n",
    "    songs_output_path = output_data + 'songs'\n",
    "    songs_table.write.partitionBy('year', 'artist_id').parquet(path=songs_output_path, mode='overwrite')\n",
    "\n",
    "    # extract columns to create artists table\n",
    "    artists_fields = ['artist_id', 'artist_name as name', 'artist_location as location', 'artist_latitude as latitude', 'artist_longitude as longitude']\n",
    "    artists_table = df.selectExpr(artists_fields).distinct()\n",
    "    \n",
    "    # write artists table to parquet files\n",
    "    artists_output_path = output_data + 'artists'\n",
    "    artists_table.write.parquet(path=artists_output_path, mode='overwrite')"
   ]
  },
  {
   "cell_type": "code",
   "execution_count": 75,
   "id": "553aea2f-51f3-491e-94bf-ba2b86537be5",
   "metadata": {
    "execution": {
     "iopub.execute_input": "2022-09-25T03:40:06.517934Z",
     "iopub.status.busy": "2022-09-25T03:40:06.516845Z",
     "iopub.status.idle": "2022-09-25T03:40:06.838583Z",
     "shell.execute_reply": "2022-09-25T03:40:06.837688Z",
     "shell.execute_reply.started": "2022-09-25T03:40:06.517899Z"
    },
    "tags": []
   },
   "outputs": [
    {
     "data": {
      "application/vnd.jupyter.widget-view+json": {
       "model_id": "09918438b2aa454f97fbaa2948b5719a",
       "version_major": 2,
       "version_minor": 0
      },
      "text/plain": [
       "VBox()"
      ]
     },
     "metadata": {},
     "output_type": "display_data"
    },
    {
     "data": {
      "application/vnd.jupyter.widget-view+json": {
       "model_id": "",
       "version_major": 2,
       "version_minor": 0
      },
      "text/plain": [
       "FloatProgress(value=0.0, bar_style='info', description='Progress:', layout=Layout(height='25px', width='50%'),…"
      ]
     },
     "metadata": {},
     "output_type": "display_data"
    }
   ],
   "source": [
    "def process_log_data(spark, input_data, output_data):\n",
    "    # get filepath to log data file\n",
    "    log_data = os.path.join(input_data, 'log_data/*/*/*.json')\n",
    "\n",
    "    # read log data file\n",
    "    df = spark.read.json(log_data)\n",
    "    \n",
    "    # filter by actions for song plays\n",
    "    df = df.filter(df.page == 'NextSong')\n",
    "\n",
    "    # extract columns for users table\n",
    "    users_fields = ['userId as user_id', 'firstName as first_name', 'lastName as last_name', 'gender', 'level']\n",
    "    users_table = df.selectExpr(users_fields).distinct()\n",
    "    \n",
    "    # write users table to parquet files\n",
    "    users_output_path = output_data + 'users'\n",
    "    users_table.write.parquet(path=users_output_path, mode='overwrite')\n",
    "\n",
    "    # create timestamp column from original timestamp column\n",
    "    get_timestamp = udf(lambda x: x / 1000, TimestampType())\n",
    "    df = df.withColumn(\"timestamp\", get_timestamp(df.ts))\n",
    "    \n",
    "    # create datetime column from original timestamp column\n",
    "    get_datetime = udf(lambda x: datetime.fromtimestamp(x), TimestampType())\n",
    "    df = df.withColumn(\"start_time\", get_datetime(df.timestamp))\n",
    "    \n",
    "    # extract columns to create time table\n",
    "    df = df.withColumn(\"hour\", hour(\"start_time\"))\n",
    "    df = df.withColumn(\"day\", dayofmonth(\"start_time\"))\n",
    "    df = df.withColumn(\"week\", weekofyear(\"start_time\"))\n",
    "    df = df.withColumn(\"month\", month(\"start_time\"))\n",
    "    df = df.withColumn(\"year\", year(\"start_time\"))  \n",
    "    df = df.withColumn(\"weekday\", dayofweek(\"start_time\"))\n",
    "    \n",
    "    time_fields = ['start_time', 'hour', 'day', 'week', 'month', 'year', 'weekday']\n",
    "    time_table = df.select(time_fields).distinct()\n",
    "    \n",
    "    # write time table to parquet files partitioned by year and month\n",
    "    time_output_path = output_data + 'time'\n",
    "    time_table.write.partitionBy('year', 'month').parquet(path=time_output_path, mode='overwrite')\n",
    "\n",
    "    # read in song and artists data to use for songplays table\n",
    "    songs_df = spark.read.parquet(output_data + 'songs/*/*/*')\n",
    "    artists_df = spark.read.parquet(os.path.join(output_data, \"artists\"))\n",
    "\n",
    "    # extract columns from joined song and log datasets to create songplays table\n",
    "    songs_logs = df.join(songs_df, (df.song == songs_df.title))\n",
    "    artists_songs_logs = songs_logs.join(artists_df, (songs_logs.artist == artists_df.name)).drop(artists_df.location)\n",
    "    \n",
    "    df = artists_songs_logs.withColumn('songplay_id', monotonically_increasing_id()) \n",
    "    \n",
    "    songplays_fields = ['songplay_id', 'start_time', 'userId as user_id', 'level', 'song_id', 'artist_id', 'sessionId as session_id', 'location', 'userAgent as user_agent', 'year', 'month']\n",
    "    songplays_table = df.selectExpr(songplays_fields)\n",
    "\n",
    "    # write songplays table to parquet files partitioned by year and month\n",
    "    songplays_output_path = output_data + 'songplays'\n",
    "    songplays_table.write.partitionBy('year', 'month').parquet(path=songplays_output_path, mode='overwrite')"
   ]
  },
  {
   "cell_type": "code",
   "execution_count": 76,
   "id": "1d18c718-d363-42d2-a5d3-51030707e2cd",
   "metadata": {
    "execution": {
     "iopub.execute_input": "2022-09-25T03:40:06.841325Z",
     "iopub.status.busy": "2022-09-25T03:40:06.839827Z",
     "iopub.status.idle": "2022-09-25T03:40:07.197781Z",
     "shell.execute_reply": "2022-09-25T03:40:07.196848Z",
     "shell.execute_reply.started": "2022-09-25T03:40:06.841290Z"
    },
    "tags": []
   },
   "outputs": [
    {
     "data": {
      "application/vnd.jupyter.widget-view+json": {
       "model_id": "77bc27bd286840eca17106651ce87904",
       "version_major": 2,
       "version_minor": 0
      },
      "text/plain": [
       "VBox()"
      ]
     },
     "metadata": {},
     "output_type": "display_data"
    },
    {
     "data": {
      "application/vnd.jupyter.widget-view+json": {
       "model_id": "",
       "version_major": 2,
       "version_minor": 0
      },
      "text/plain": [
       "FloatProgress(value=0.0, bar_style='info', description='Progress:', layout=Layout(height='25px', width='50%'),…"
      ]
     },
     "metadata": {},
     "output_type": "display_data"
    }
   ],
   "source": [
    "def main():\n",
    "    spark = create_spark_session()\n",
    "    input_data = \"s3a://udacity-dend/\"\n",
    "    output_data = \"\"\n",
    "    \n",
    "    process_song_data(spark, input_data, output_data)    \n",
    "    process_log_data(spark, input_data, output_data)\n",
    "    \n",
    "    # Verify success of creation of songplays table\n",
    "    df = spark.read.parquet(output_data + 'songplays')\n",
    "    df.printSchema()\n",
    "    df.show(5)"
   ]
  },
  {
   "cell_type": "code",
   "execution_count": 77,
   "id": "51e07d9f-a28e-467a-aae5-e71f014ed69f",
   "metadata": {
    "execution": {
     "iopub.execute_input": "2022-09-25T03:40:07.200559Z",
     "iopub.status.busy": "2022-09-25T03:40:07.199077Z",
     "iopub.status.idle": "2022-09-25T04:32:20.453072Z",
     "shell.execute_reply": "2022-09-25T04:32:20.452159Z",
     "shell.execute_reply.started": "2022-09-25T03:40:07.200523Z"
    },
    "tags": []
   },
   "outputs": [
    {
     "data": {
      "application/vnd.jupyter.widget-view+json": {
       "model_id": "8397b4b908ec42228c3ff37c3e3a7c3b",
       "version_major": 2,
       "version_minor": 0
      },
      "text/plain": [
       "VBox()"
      ]
     },
     "metadata": {},
     "output_type": "display_data"
    },
    {
     "data": {
      "application/vnd.jupyter.widget-view+json": {
       "model_id": "",
       "version_major": 2,
       "version_minor": 0
      },
      "text/plain": [
       "FloatProgress(value=0.0, bar_style='info', description='Progress:', layout=Layout(height='25px', width='50%'),…"
      ]
     },
     "metadata": {},
     "output_type": "display_data"
    },
    {
     "name": "stdout",
     "output_type": "stream",
     "text": [
      "root\n",
      " |-- songplay_id: long (nullable = true)\n",
      " |-- start_time: timestamp (nullable = true)\n",
      " |-- user_id: string (nullable = true)\n",
      " |-- level: string (nullable = true)\n",
      " |-- song_id: string (nullable = true)\n",
      " |-- artist_id: string (nullable = true)\n",
      " |-- session_id: long (nullable = true)\n",
      " |-- location: string (nullable = true)\n",
      " |-- user_agent: string (nullable = true)\n",
      " |-- year: integer (nullable = true)\n",
      " |-- month: integer (nullable = true)\n",
      "\n",
      "+-------------+--------------------+-------+-----+------------------+------------------+----------+--------------------+--------------------+----+-----+\n",
      "|  songplay_id|          start_time|user_id|level|           song_id|         artist_id|session_id|            location|          user_agent|year|month|\n",
      "+-------------+--------------------+-------+-----+------------------+------------------+----------+--------------------+--------------------+----+-----+\n",
      "|2164663517184|2018-11-25 16:14:...|     49| paid|SOBONKR12A58A7A7E0|AR5E44Z1187B9A1D74|       923|San Francisco-Oak...|Mozilla/5.0 (Wind...|2018|   11|\n",
      "|2164663517185|2018-11-22 01:59:...|     15| paid|SOBONKR12A58A7A7E0|AR5E44Z1187B9A1D74|       818|Chicago-Napervill...|\"Mozilla/5.0 (X11...|2018|   11|\n",
      "|2164663517186|2018-11-02 18:02:...|     50| free|SOBONKR12A58A7A7E0|AR5E44Z1187B9A1D74|       207|New Haven-Milford...|\"Mozilla/5.0 (Win...|2018|   11|\n",
      "|2164663517187|2018-11-02 16:35:...|     50| free|SOBONKR12A58A7A7E0|AR5E44Z1187B9A1D74|       156|New Haven-Milford...|\"Mozilla/5.0 (Win...|2018|   11|\n",
      "|2164663517188|2018-11-04 15:39:...|     78| free|SOBONKR12A58A7A7E0|AR5E44Z1187B9A1D74|       176|Indianapolis-Carm...|Mozilla/5.0 (Wind...|2018|   11|\n",
      "+-------------+--------------------+-------+-----+------------------+------------------+----------+--------------------+--------------------+----+-----+\n",
      "only showing top 5 rows"
     ]
    }
   ],
   "source": [
    "main()"
   ]
  },
  {
   "cell_type": "code",
   "execution_count": null,
   "id": "8d75136d-9704-46c2-9e94-c653af3c0700",
   "metadata": {},
   "outputs": [],
   "source": []
  }
 ],
 "metadata": {
  "kernelspec": {
   "display_name": "PySpark",
   "language": "",
   "name": "pysparkkernel"
  },
  "language_info": {
   "codemirror_mode": {
    "name": "python",
    "version": 2
   },
   "mimetype": "text/x-python",
   "name": "pyspark",
   "pygments_lexer": "python2"
  }
 },
 "nbformat": 4,
 "nbformat_minor": 5
}
